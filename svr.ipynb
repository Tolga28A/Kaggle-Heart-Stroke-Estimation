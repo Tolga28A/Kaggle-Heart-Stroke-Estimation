{
 "cells": [
  {
   "cell_type": "code",
   "execution_count": 4,
   "metadata": {},
   "outputs": [
    {
     "name": "stderr",
     "output_type": "stream",
     "text": [
      "/home/tolga/anaconda3/lib/python3.7/site-packages/ipykernel_launcher.py:63: DataConversionWarning: A column-vector y was passed when a 1d array was expected. Please change the shape of y to (n_samples,), for example using ravel().\n"
     ]
    },
    {
     "data": {
      "text/plain": [
       "'\"\\n# Predicting the Test set results\\ny_pred = classifier.predict(X_test)\\ny_pred.sum()\\n\\n#Confusion matrix\\nfrom sklearn.metrics import confusion_matrix\\ncm = confusion_matrix(y_test, y_pred)\\n\\n# Visualization\\nfrom matplotlib.colors import ListedColormap\\nX_set, y_set = X_test, y_test\\nX1, X2 = np.meshgrid(np.arange(start = X_set[:, 0].min() - 1, stop = X_set[:, 0].max() + 1, step = 0.01),\\n                     np.arange(start = X_set[:, 1].min() - 1, stop = X_set[:, 1].max() + 1, step = 0.01))\\n\\nplt.contourf(X1, X2, classifier.predict(np.array([X1.ravel(), X2.ravel()]).T).reshape(X1.shape),\\n             alpha = 0.75, cmap = ListedColormap((\\'red\\', \\'green\\')))\\nplt.xlim(X1.min(), X1.max())\\nplt.ylim(X2.min(), X2.max())\\nfor i, j in enumerate(np.unique(y_set)):\\n    plt.scatter(X_set[y_set == j, 0], X_set[y_set == j, 1],\\n                c = ListedColormap((\\'red\\', \\'green\\'))(i), label = j)\\nplt.title(\\'\\')\\nplt.xlabel(\\'\\')\\nplt.ylabel(\\'\\')\\nplt.legend()\\nplt.show()\\n'"
      ]
     },
     "execution_count": 4,
     "metadata": {},
     "output_type": "execute_result"
    }
   ],
   "source": [
    "#!/usr/bin/env python3\n",
    "# -*- coding: utf-8 -*-\n",
    "\"\"\"\n",
    "Created on Tue Jul 30 23:18:20 2019\n",
    "\n",
    "@author: tolga\n",
    "\"\"\"\n",
    "\n",
    "# Importing the libraries\n",
    "import numpy as np\n",
    "import matplotlib.pyplot as plt\n",
    "import pandas as pd\n",
    "import seaborn as sns\n",
    "\n",
    "dataset = pd.read_csv('train_2v.csv')\n",
    "\n",
    "# Find the columns and percentage of nans in the training and test data\n",
    "null_check=((dataset.isnull().sum()/len(dataset))*100).sort_values(ascending=False)\n",
    "\n",
    "# BMI and smoking status have missing data, it is easy for bmi and I'm erasing \n",
    "# the missing data rows for smoking status\n",
    "dataset['bmi']=dataset.bmi.fillna(dataset.bmi.mean())\n",
    "dataset.dropna(inplace=True)\n",
    "\n",
    "# Also drop the ids\n",
    "dataset=dataset.drop('id', axis=1)\n",
    "\n",
    "# Now check the missing data again\n",
    "null_check=((dataset.isnull().sum()/len(dataset))*100).sort_values(ascending=False)\n",
    "\n",
    "# Correlation matrix\n",
    "f,ax=plt.subplots(figsize=(12,10))\n",
    "corr=dataset.corr()\n",
    "sns.heatmap(dataset.corr(),mask=np.zeros_like(corr, dtype=np.bool), cmap=sns.diverging_palette(520,14,as_cmap=True),square=True, ax=ax)\n",
    "\n",
    "# Scattering correlation plots\n",
    "sns.set()\n",
    "sns.pairplot(dataset)\n",
    "plt.show()\n",
    "\n",
    "# Now hot encode all the categorical variables\n",
    "dataset = pd.get_dummies(dataset)\n",
    "\n",
    "# Separate the dependent and independent variables\n",
    "exclude=['stroke'];\n",
    "X = dataset.loc[:, dataset.columns.difference(exclude)].values\n",
    "y = dataset.loc[:, dataset.columns == 'stroke'].values\n",
    "\n",
    "\n",
    "# Feature Scaling only on non-encoded columns\n",
    "from sklearn.preprocessing import StandardScaler\n",
    "sc_X = StandardScaler()\n",
    "X[:,2:5] = sc_X.fit_transform(X[:,2:5])\n",
    "\n",
    "\n",
    "# Splitting the dataset into the Training set and Test set\n",
    "from sklearn.model_selection import train_test_split\n",
    "X_train, X_test, y_train, y_test = train_test_split(X, y, test_size = 0.2, random_state = 0)\n",
    "\n",
    "# Fitting classifier to the Training set\n",
    "from sklearn.ensemble import RandomForestClassifier\n",
    "classifier = RandomForestClassifier(n_estimators=50,criterion='entropy',random_state=0)\n",
    "classifier.fit(X_train,y_train)\n",
    "\n",
    "\n",
    "\"\"\"\"\n",
    "# Predicting the Test set results\n",
    "y_pred = classifier.predict(X_test)\n",
    "y_pred.sum()\n",
    "\n",
    "#Confusion matrix\n",
    "from sklearn.metrics import confusion_matrix\n",
    "cm = confusion_matrix(y_test, y_pred)\n",
    "\n",
    "# Visualization\n",
    "from matplotlib.colors import ListedColormap\n",
    "X_set, y_set = X_test, y_test\n",
    "X1, X2 = np.meshgrid(np.arange(start = X_set[:, 0].min() - 1, stop = X_set[:, 0].max() + 1, step = 0.01),\n",
    "                     np.arange(start = X_set[:, 1].min() - 1, stop = X_set[:, 1].max() + 1, step = 0.01))\n",
    "\n",
    "plt.contourf(X1, X2, classifier.predict(np.array([X1.ravel(), X2.ravel()]).T).reshape(X1.shape),\n",
    "             alpha = 0.75, cmap = ListedColormap(('red', 'green')))\n",
    "plt.xlim(X1.min(), X1.max())\n",
    "plt.ylim(X2.min(), X2.max())\n",
    "for i, j in enumerate(np.unique(y_set)):\n",
    "    plt.scatter(X_set[y_set == j, 0], X_set[y_set == j, 1],\n",
    "                c = ListedColormap(('red', 'green'))(i), label = j)\n",
    "plt.title('')\n",
    "plt.xlabel('')\n",
    "plt.ylabel('')\n",
    "plt.legend()\n",
    "plt.show()\n",
    "\"\"\"\n",
    "\n",
    "\n"
   ]
  },
  {
   "cell_type": "code",
   "execution_count": null,
   "metadata": {},
   "outputs": [],
   "source": []
  },
  {
   "cell_type": "code",
   "execution_count": null,
   "metadata": {},
   "outputs": [],
   "source": []
  }
 ],
 "metadata": {
  "anaconda-cloud": {},
  "kernelspec": {
   "display_name": "Python 3",
   "language": "python",
   "name": "python3"
  },
  "language_info": {
   "codemirror_mode": {
    "name": "ipython",
    "version": 3
   },
   "file_extension": ".py",
   "mimetype": "text/x-python",
   "name": "python",
   "nbconvert_exporter": "python",
   "pygments_lexer": "ipython3",
   "version": "3.7.3"
  }
 },
 "nbformat": 4,
 "nbformat_minor": 1
}
